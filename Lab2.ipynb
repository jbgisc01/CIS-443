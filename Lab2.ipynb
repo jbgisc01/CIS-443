{
 "cells": [
  {
   "cell_type": "markdown",
   "metadata": {},
   "source": [
    "# CIS 443-01 - Analytics Programming\n",
    "## Lab 2\n",
    "__Grading ID__: C5463 <br>\n",
    "__Due__: Monday, January 31 (by 11:59 PM)<br />\n",
    "__Worth__: 25 pts."
   ]
  },
  {
   "cell_type": "markdown",
   "metadata": {},
   "source": [
    "### Directions\n",
    "Exercise 3.11, p. 113 (Miles Per Gallon) Drivers are concerned with the mileage obtained by their automobiles. One driver has kept track of several tankfuls of gasoline by recording miles driven and gallons used for each tankful. Develop a sentinel-controlled-repetition script that prompts the user to input the miles driven and gallons used for each tankful. The script should calculate and display the miles per gallon obtained for each tankful. After processing all input information, the script should calculate and display the combined miles per gallon obtained for all tankfuls (that is, total miles driven divided by total gallons used). Sample output appears below. (25 pts.)<br>\n",
    "<div class=\"alert alert-block alert-info\">\n",
    "Enter the gallons used (-1 to end): 12.8<br>\n",
    "Enter the miles driven: 287<br>\n",
    "The miles/gallon for this tank was 22.421875<br>\n",
    "Enter the gallons used (-1 to end): 10.3<br>\n",
    "Enter the miles driven: 200<br>\n",
    "The miles/gallon for this tank was 19.417475<br>\n",
    "Enter the gallons used (-1 to end): 5<br>\n",
    "Enter the miles driven: 120<br>\n",
    "The miles/gallon for this tank was 24.000000<br>\n",
    "Enter the gallons used (-1 to end): -1<br>\n",
    "The overall average miles/gallon was 21.601423\n",
    "</div>"
   ]
  },
  {
   "cell_type": "code",
   "execution_count": null,
   "metadata": {},
   "outputs": [
    {
     "name": "stdout",
     "output_type": "stream",
     "text": [
      "Enter miles: 183\n",
      "Enter gallons (Enter -1 to end):  2\n",
      "The miles per gallon is:   91.0\n"
     ]
    }
   ],
   "source": [
    "\n",
    "total = 0\n",
    "Mpg_calculator = 0 \n",
    "#Calculation for Miles and gallons and Mpg\n",
    "\n",
    "while True: \n",
    "    miles = float(input('Enter miles: '))\n",
    "    gallons = float(input('Enter gallons (Enter -1 to end):  '))\n",
    "    Mpg = miles // gallons \n",
    "    print('The miles per gallon is:  ',Mpg)\n",
    "#Processing Phase \n",
    "if gallons ==  -1:\n",
    "    print(\"End\")\n",
    "    \n",
    "    \n",
    "    \n",
    "    \n",
    "\n",
    "    \n",
    "\n",
    "    \n",
    "\n",
    "\n",
    "\n",
    "\n",
    "\n",
    "\n",
    "\n",
    "\n",
    "    \n",
    "\n",
    "\n"
   ]
  },
  {
   "cell_type": "code",
   "execution_count": null,
   "metadata": {},
   "outputs": [],
   "source": []
  }
 ],
 "metadata": {
  "kernelspec": {
   "display_name": "Python 3 (ipykernel)",
   "language": "python",
   "name": "python3"
  },
  "language_info": {
   "codemirror_mode": {
    "name": "ipython",
    "version": 3
   },
   "file_extension": ".py",
   "mimetype": "text/x-python",
   "name": "python",
   "nbconvert_exporter": "python",
   "pygments_lexer": "ipython3",
   "version": "3.9.7"
  }
 },
 "nbformat": 4,
 "nbformat_minor": 4
}
