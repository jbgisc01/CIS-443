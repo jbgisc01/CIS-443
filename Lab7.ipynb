{
 "cells": [
  {
   "cell_type": "markdown",
   "metadata": {
    "id": "o_DB20nBqfOa"
   },
   "source": [
    "# CIS 443-01 - Analytics Programming\n",
    "## Lab 7\n",
    "__Grading ID__: C5463 (double click the cell in Jupyter to edit, find ID in Blackboard Gradebook)<br>\n",
    "__Due__: Monday, March 28 (by 11:59 PM)<br />\n",
    "__Worth__: 25 pts."
   ]
  },
  {
   "cell_type": "markdown",
   "metadata": {
    "id": "LxPfkl55qfOd"
   },
   "source": [
    "### Directions\n",
    "**Exercise 8.5, p. 313 (Character Counts)** Write a script that reads a line of text, tokenizes the line using space characters as delimiters and outputs only those words beginning with the letter 'b'.\n"
   ]
  },
  {
   "cell_type": "code",
   "execution_count": 2,
   "metadata": {
    "id": "TNlJkT_IqfOe"
   },
   "outputs": [
    {
     "name": "stdout",
     "output_type": "stream",
     "text": [
      "Enter a line of text: Bees buzz every booming place\n",
      "Words starting with b are: \n",
      "buzz\n",
      "booming\n"
     ]
    }
   ],
   "source": [
    "# Lab 7\n",
    "#Grading ID: C5463\n",
    "#CIS 443\n",
    "#This is a script that reads text and tokenizes words beginning with the letter 'b' \n",
    "\n",
    "#string input \n",
    "string = input(\"Enter a line of text: \")\n",
    "\n",
    "#tokenizing a string \n",
    "tok = string.split(\" \")\n",
    "\n",
    "#print the result\n",
    "print(\"Words starting with b are: \")\n",
    "\n",
    "#loop to print only the words beginning with \"b\"\n",
    "for i in range(0, len(tok)):\n",
    "    if tok[i][0]==('b'):\n",
    "        print(tok[i])\n"
   ]
  },
  {
   "cell_type": "markdown",
   "metadata": {
    "id": "cf1qpNp4qfOg"
   },
   "source": [
    "Be sure to save and exit your Jupyter Notebook and Shutdown Jupyter Lab (from the __File__ menu) if using Ananconda before you submit your notebook on Blackboard for grading. If using Colab, be sure to Download (from the __File__ menu) back to your local file system before submitting to Blackboard.\n",
    "Make sure you don't submit the empty starting notebook by accident."
   ]
  }
 ],
 "metadata": {
  "colab": {
   "collapsed_sections": [],
   "name": "Lab7.ipynb",
   "provenance": []
  },
  "kernelspec": {
   "display_name": "Python 3 (ipykernel)",
   "language": "python",
   "name": "python3"
  },
  "language_info": {
   "codemirror_mode": {
    "name": "ipython",
    "version": 3
   },
   "file_extension": ".py",
   "mimetype": "text/x-python",
   "name": "python",
   "nbconvert_exporter": "python",
   "pygments_lexer": "ipython3",
   "version": "3.9.7"
  }
 },
 "nbformat": 4,
 "nbformat_minor": 4
}
