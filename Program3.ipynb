{
 "cells": [
  {
   "cell_type": "code",
   "execution_count": null,
   "id": "406916b2-8358-4b62-a80e-fe907e059725",
   "metadata": {},
   "outputs": [
    {
     "name": "stdout",
     "output_type": "stream",
     "text": [
      "Enter player 1 jersey number: \n"
     ]
    }
   ],
   "source": [
    "#Grading Id:C5463\n",
    "#Program 3 \n",
    "#CIS 443-01 \n",
    "# This is an interactive Python script or Jupyter Notebook that allows the user to enter data about a sports team roster \n",
    "# and performs specified actions using a menu system as described below.\n",
    "\n",
    "\n",
    "roster={ } #makes the dictionary \n",
    "for i in range (1,6): \n",
    "    print(\"Enter player \"+str(i)+ \" jersey number: \") \n",
    "    jersey=int(input())\n",
    "    print(\"Enter player \"+str(i)+ \" rating: \")\n",
    "    rating = int(input())\n",
    "    roster[jersey] = rating \n",
    "print(\"Roster\") \n",
    "for i in sorted(roster): #values in dictionary\n",
    "     print(\"Jersey Number: \"+str(i)+\" Rating: \"+str(roster[i]))\n",
    "while(1): #while loop for menu\n",
    "    print(\"\\nMenu\")\n",
    "    print(\"i - Input roster data\")\n",
    "    print(\"a - Add player\") \n",
    "    print(\"d - Remove player\")\n",
    "    print(\"u - Update player rating\")\n",
    "    print(\"r - Print players above a rating\") \n",
    "    print(\"p - Print entire roster\") \n",
    "    print(\"s - Save roster data file\") \n",
    "    print(\"o - Open roster data file\") \n",
    "    print(\"q - Quit\") \n",
    "    print(\"\\nChoose an option\") \n",
    "    n=input()\n",
    "    if(n==\"a\"):\n",
    "        print(\"Enter another player's jersey: \")\n",
    "        jersey=int(input())\n",
    "        print(\"Enter their rating: \")\n",
    "        rating = int(input())\n",
    "        roster[jersey]=rating \n",
    "    elif(n==\"d\"): #deletes player\n",
    "        print(\"Enter a Jersey number: \")\n",
    "        jersey=int(input())\n",
    "        roster.pop(jersey)\n",
    "    elif(n==\"u\"): #Updates the rating\n",
    "        print(\"Enter a jersey number: \") \n",
    "        jersey = int(input())\n",
    "        print(\"Enter the new rating: \") \n",
    "        rating = int(input())\n",
    "        roster[jersey] = rating\n",
    "    elif(n==\"r\"): #prints rating above certain value \n",
    "        print(\"Enter a rating: \") \n",
    "        aboveRate = int(input())\n",
    "        print(\"Above \"+str(aboveRate))\n",
    "        for i in sorted(roster):\n",
    "            if(roster[i]>aboverate):\n",
    "                print(\"Jersery number: \"+str(i)+ \" Rating: \"+str(roster[i]))\n",
    "    elif(n==\"p\"): \n",
    "        print(\"roster\")\n",
    "        for i in sorted(roster):\n",
    "            print(\"Jersey number: \"+str(i)+\" Rating: \"+str(roster[i]))\n",
    "    elif(n==\"q\"):\n",
    "        break \n",
    "         \n",
    "    \n",
    "            \n",
    "    \n",
    "\n",
    "    \n",
    "    \n",
    "\n"
   ]
  },
  {
   "cell_type": "code",
   "execution_count": null,
   "id": "85c090be-45b2-43b6-ad27-29649fc122d7",
   "metadata": {},
   "outputs": [],
   "source": []
  }
 ],
 "metadata": {
  "kernelspec": {
   "display_name": "Python 3 (ipykernel)",
   "language": "python",
   "name": "python3"
  },
  "language_info": {
   "codemirror_mode": {
    "name": "ipython",
    "version": 3
   },
   "file_extension": ".py",
   "mimetype": "text/x-python",
   "name": "python",
   "nbconvert_exporter": "python",
   "pygments_lexer": "ipython3",
   "version": "3.9.7"
  }
 },
 "nbformat": 4,
 "nbformat_minor": 5
}
